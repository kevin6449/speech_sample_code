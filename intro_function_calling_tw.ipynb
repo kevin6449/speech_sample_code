{
  "cells": [
    {
      "cell_type": "markdown",
      "metadata": {
        "id": "view-in-github",
        "colab_type": "text"
      },
      "source": [
        "<a href=\"https://colab.research.google.com/github/kevin6449/speech_sample_code/blob/main/intro_function_calling_tw.ipynb\" target=\"_parent\"><img src=\"https://colab.research.google.com/assets/colab-badge.svg\" alt=\"Open In Colab\"/></a>"
      ]
    },
    {
      "cell_type": "code",
      "execution_count": 1,
      "metadata": {
        "id": "ijGzTHJJUCPY"
      },
      "outputs": [],
      "source": [
        "# 版權所有 2024 Google LLC\n",
        "#\n",
        "# 根據 Apache 授權版本 2.0（「授權」）授權；\n",
        "# 除非符合授權條款，否則您不得使用此檔案。\n",
        "# 您可以在以下網址取得授權副本：\n",
        "#\n",
        "#     https://www.apache.org/licenses/LICENSE-2.0\n",
        "#\n",
        "# 除非適用法律規定或以書面形式同意，否則\n",
        "# 在授權下散佈的軟體係以「现状」為基礎散佈，\n",
        "# 不附帶任何明示或暗示的保證。\n",
        "# 如需管理權限和限制的特定條款，請參閱授權。"
      ]
    },
    {
      "cell_type": "markdown",
      "metadata": {
        "id": "VEqbX8OhE8y9"
      },
      "source": [
        "# Gemini API 與 Python SDK 的函式呼叫入門\n",
        "\n",
        "<table align=\"left\">\n",
        "  <td style=\"text-align: center\">\n",
        "    <a href=\"https://colab.research.google.com/github/GoogleCloudPlatform/generative-ai/blob/main/gemini/function-calling/intro_function_calling.ipynb\">\n",
        "      <img src=\"https://cloud.google.com/ml-engine/images/colab-logo-32px.png\" alt=\"Google Colaboratory 標誌\"><br> 在 Colab 中執行\n",
        "    </a>\n",
        "  </td>\n",
        "  <td style=\"text-align: center\">\n",
        "    <a href=\"https://console.cloud.google.com/vertex-ai/colab/import/https:%2F%2Fraw.githubusercontent.com%2FGoogleCloudPlatform%2Fgenerative-ai%2Fmain%2Fgemini%2Ffunction-calling%2Fintro_function_calling.ipynb\">\n",
        "      <img width=\"32px\" src=\"https://lh3.googleusercontent.com/JmcxdQi-qOpctIvWKgPtrzZdJJK-J3sWE1RsfjZNwshCFgE_9fULcNpuXYTilIR2hjwN\" alt=\"Google Cloud Colab 企業版標誌\"><br> 在 Colab 企業版中執行\n",
        "    </a>\n",
        "  </td>      \n",
        "  <td style=\"text-align: center\">\n",
        "    <a href=\"https://github.com/GoogleCloudPlatform/generative-ai/blob/main/gemini/function-calling/intro_function_calling.ipynb\">\n",
        "      <img src=\"https://cloud.google.com/ml-engine/images/github-logo-32px.png\" alt=\"GitHub 標誌\"><br> 在 GitHub 上檢視\n",
        "    </a>\n",
        "  </td>\n",
        "  <td style=\"text-align: center\">\n",
        "    <a href=\"https://console.cloud.google.com/vertex-ai/workbench/deploy-notebook?download_url=https://raw.githubusercontent.com/GoogleCloudPlatform/generative-ai/main/gemini/function-calling/intro_function_calling.ipynb\">\n",
        "      <img src=\"https://lh3.googleusercontent.com/UiNooY4LUgW_oTvpsNhPpQzsstV5W8F7rYgxgGBD85cWJoLmrOzhVs_ksK_vgx40SHs7jCqkTkCk=e14-rj-sc0xffffff-h130-w32\" alt=\"Vertex AI 標誌\"><br> 在 Vertex AI 工作台中開啟\n",
        "    </a>\n",
        "  </td>\n",
        "  <td style=\"text-align: center\">\n",
        "    <a href=\"https://goo.gle/4jeQxBO\">\n",
        "      <img width=\"32px\" src=\"https://cdn.qwiklabs.com/assets/gcp_cloud-e3a77215f0b8bfa9b3f611c0d2208c7e8708ed31.svg\" alt=\"Google Cloud 標誌\"><br> 在 Cloud Skills Boost 中開啟\n",
        "    </a>\n",
        "  </td>\n",
        "</table>\n",
        "\n",
        "<div style=\"clear: both;\"></div>\n",
        "\n",
        "<b>分享至：</b>\n",
        "\n",
        "<a href=\"https://www.linkedin.com/sharing/share-offsite/?url=https%3A//github.com/GoogleCloudPlatform/generative-ai/blob/main/gemini/function-calling/intro_function_calling.ipynb\" target=\"_blank\">\n",
        "  <img width=\"20px\" src=\"https://upload.wikimedia.org/wikipedia/commons/8/81/LinkedIn_icon.svg\" alt=\"LinkedIn 標誌\">\n",
        "</a>\n",
        "\n",
        "<a href=\"https://bsky.app/intent/compose?text=https%3A//github.com/GoogleCloudPlatform/generative-ai/blob/main/gemini/function-calling/intro_function_calling.ipynb\" target=\"_blank\">\n",
        "  <img width=\"20px\" src=\"https://upload.wikimedia.org/wikipedia/commons/7/7a/Bluesky_Logo.svg\" alt=\"Bluesky 標誌\">\n",
        "</a>\n",
        "\n",
        "<a href=\"https://twitter.com/intent/tweet?url=https%3A//github.com/GoogleCloudPlatform/generative-ai/blob/main/gemini/function-calling/intro_function_calling.ipynb\" target=\"_blank\">\n",
        "  <img width=\"20px\" src=\"https://upload.wikimedia.org/wikipedia/commons/5/5a/X_icon_2.svg\" alt=\"X 標誌\">\n",
        "</a>\n",
        "\n",
        "<a href=\"https://reddit.com/submit?url=https%3A//github.com/GoogleCloudPlatform/generative-ai/blob/main/gemini/function-calling/intro_function_calling.ipynb\" target=\"_blank\">\n",
        "  <img width=\"20px\" src=\"https://redditinc.com/hubfs/Reddit%20Inc/Brand/Reddit_Logo.png\" alt=\"Reddit 標誌\">\n",
        "</a>\n",
        "\n",
        "<a href=\"https://www.facebook.com/sharer/sharer.php?u=https%3A//github.com/GoogleCloudPlatform/generative-ai/blob/main/gemini/function-calling/intro_function_calling.ipynb\" target=\"_blank\">\n",
        "  <img width=\"20px\" src=\"https://upload.wikimedia.org/wikipedia/commons/5/51/Facebook_f_logo_%282019%29.svg\" alt=\"Facebook 標誌\">\n",
        "</a>            \n"
      ]
    },
    {
      "cell_type": "markdown",
      "metadata": {
        "id": "84e7e432e6ff"
      },
      "source": [
        "| | |\n",
        "|-|-|\n",
        "|作者 | [Kristopher Overholt](https://github.com/koverholt) [Holt Skinner](https://github.com/holtskinner) |"
      ]
    },
    {
      "cell_type": "markdown",
      "metadata": {
        "id": "CkHPv2myT2cx"
      },
      "source": [
        "## 概述\n",
        "\n",
        "**YouTube 影片：AI + 您的程式碼：函式呼叫**\n",
        "\n",
        "<a href=\"https://www.youtube.com/watch?v=NbAGbXr4DME&list=PLIivdWyY5sqLvGdVLJZh2EMax97_T-OIB\" target=\"_blank\">\n",
        "  <img src=\"https://img.youtube.com/vi/NbAGbXr4DME/maxresdefault.jpg\" alt=\"AI + 您的程式碼：函式呼叫\" width=\"500\">\n",
        "</a>\n",
        "\n",
        "### Gemini\n",
        "\n",
        "Gemini 是 Google DeepMind 開發的一系列生成式 AI 模型，設計用於多模態用例。\n",
        "\n",
        "### 從 Gemini 呼叫函式\n",
        "\n",
        "在 Gemini 中的 [函式呼叫](https://cloud.google.com/vertex-ai/docs/generative-ai/multimodal/function-calling) 讓開發人員可以建立程式碼中函式的描述，然後在請求中將該描述傳遞給語言模型。模型的回應包含與描述相符的函式名稱以及要使用它呼叫的參數。\n",
        "\n",
        "### 為什麼要使用函式呼叫？\n",
        "\n",
        "想像一下，要求某人寫下重要資訊，但沒有給他們表格或任何關於結構的指南。您可能會得到一段精心撰寫的段落，但提取特定細節（例如姓名、日期或數字）將會很費力！同樣地，如果沒有函式呼叫，試圖從生成式文字模型獲取一致的結構化資料可能會令人沮喪。您只能明確提示 JSON 輸出等事項，結果往往不一致且令人沮喪。\n",
        "\n",
        "這就是 Gemini 函式呼叫發揮作用的地方。您可以定義具有特定參數和資料類型的明確函式，而不是寄希望於從生成式模型的自由格式文字回應中獲得最佳結果。這些函式宣告充當結構化指南，引導 Gemini 模型以可預測且可用的方式來組織其輸出。不再需要從文字回應中解析重要資訊！\n",
        "\n",
        "可以將其視為教導 Gemini 理解您的應用程式的語言。需要從資料庫擷取資訊嗎？定義一個具有搜尋詞參數的 `search_db` 函式。想要與天氣 API 整合嗎？建立一個以位置為輸入的 `get_weather` 函式。函式呼叫彌合了人類語言與與外部系統互動所需的結構化資料之間的差距。"
      ]
    },
    {
      "cell_type": "markdown",
      "metadata": {
        "id": "DrkcqHrrwMAo"
      },
      "source": [
        "### 目標\n",
        "\n",
        "在本教學課程中，您將學習如何使用 Vertex AI 中的 Gemini API 與 Python 的 Vertex AI SDK，透過 Gemini 2.0 Flash（`gemini-2.0-flash`）模型進行函式呼叫。\n",
        "\n",
        "您將完成以下工作：\n",
        "\n",
        "- 安裝 Python 的 Google Gen AI SDK\n",
        "- 使用 Vertex AI 中的 Gemini API 與 Gemini 模型互動：\n",
        "- 在聊天階段使用函式呼叫來回答使用者關於 Google 商店中產品的問題\n",
        "- 使用函式呼叫來使用地圖 API 將地址進行地理編碼\n",
        "- 使用函式呼叫來對原始記錄資料進行實體提取"
      ]
    },
    {
      "cell_type": "markdown",
      "metadata": {
        "id": "C9nEPojogw-g"
      },
      "source": [
        "### 成本\n",
        "\n",
        "本教學課程使用了 Google Cloud 的計費組成部分：\n",
        "\n",
        "- Vertex AI\n",
        "\n",
        "瞭解 [Vertex AI 定價](https://cloud.google.com/vertex-ai/pricing) 並使用 [定價計算器](https://cloud.google.com/products/calculator/) 根據您的預計使用情況產生成本估計。\n"
      ]
    },
    {
      "cell_type": "markdown",
      "metadata": {
        "id": "r11Gu7qNgx1p"
      },
      "source": [
        "## 開始"
      ]
    },
    {
      "cell_type": "markdown",
      "metadata": {
        "id": "No17Cw5hgx12"
      },
      "source": [
        "### 安裝 Google Gen AI SDK\n"
      ]
    },
    {
      "cell_type": "code",
      "execution_count": 2,
      "metadata": {
        "id": "tFy3H3aPgx12",
        "colab": {
          "base_uri": "https://localhost:8080/"
        },
        "outputId": "c1fe0229-dcd9-4059-fd0b-2bf1d682047f"
      },
      "outputs": [
        {
          "output_type": "stream",
          "name": "stdout",
          "text": [
            "\u001b[?25l   \u001b[90m━━━━━━━━━━━━━━━━━━━━━━━━━━━━━━━━━━━━━━━━\u001b[0m \u001b[32m0.0/137.7 kB\u001b[0m \u001b[31m?\u001b[0m eta \u001b[36m-:--:--\u001b[0m\r\u001b[2K   \u001b[90m━━━━━━━━━━━━━━━━━━━━━━━━━━━━━━━━━━━━━━━━\u001b[0m \u001b[32m137.7/137.7 kB\u001b[0m \u001b[31m5.3 MB/s\u001b[0m eta \u001b[36m0:00:00\u001b[0m\n",
            "\u001b[?25h"
          ]
        }
      ],
      "source": [
        "%pip install --upgrade --quiet google-genai"
      ]
    },
    {
      "cell_type": "markdown",
      "metadata": {
        "id": "R5Xep4W9lq-Z"
      },
      "source": [
        "### 重新啟動目前的執行階段\n",
        "\n",
        "若要在這個 Jupyter 執行階段中使用新安裝的套件，您必須重新啟動執行階段。您可以透過執行以下程式碼儲存格來重新啟動目前的核心。"
      ]
    },
    {
      "cell_type": "code",
      "execution_count": 3,
      "metadata": {
        "id": "XRvKdaPDTznN",
        "colab": {
          "base_uri": "https://localhost:8080/"
        },
        "outputId": "e8255502-2ef4-4403-9402-76763751d217"
      },
      "outputs": [
        {
          "output_type": "execute_result",
          "data": {
            "text/plain": [
              "{'status': 'ok', 'restart': True}"
            ]
          },
          "metadata": {},
          "execution_count": 3
        }
      ],
      "source": [
        "# 安裝完成後重新啟動核心，以便您的環境可以存取新的套件\n",
        "import IPython\n",
        "\n",
        "app = IPython.Application.instance()\n",
        "app.kernel.do_shutdown(True)"
      ]
    },
    {
      "cell_type": "markdown",
      "metadata": {
        "id": "SbmM4z7FOBpM"
      },
      "source": [
        "<div class=\"alert alert-block alert-warning\">\n",
        "<b>⚠️ 核心將重新啟動。請等到完成後再繼續執行下一步。⚠️</b>\n",
        "</div>\n"
      ]
    },
    {
      "cell_type": "markdown",
      "metadata": {
        "id": "dmWOrTJ3gx13"
      },
      "source": [
        "### 驗證您的筆記本環境（僅限 Colab）\n",
        "\n",
        "如果您在 Google Colab 上執行此筆記本，請執行以下程式碼儲存格來驗證您的環境。如果您使用的是 [Vertex AI Workbench](https://cloud.google.com/vertex-ai-workbench)，則不需要此步驟。"
      ]
    },
    {
      "cell_type": "code",
      "execution_count": 4,
      "metadata": {
        "id": "NyKGtVQjgx13"
      },
      "outputs": [],
      "source": [
        "import sys\n",
        "\n",
        "if \"google.colab\" in sys.modules:\n",
        "    from google.colab import auth\n",
        "\n",
        "    auth.authenticate_user()"
      ]
    },
    {
      "cell_type": "markdown",
      "metadata": {
        "id": "DF4l8DTdWgPY"
      },
      "source": [
        "### 設定 Google Cloud 專案資訊\n",
        "\n",
        "若要開始使用 Vertex AI，您必須有一個現有的 Google Cloud 專案，並 [啟用 Vertex AI API](https://console.cloud.google.com/flows/enableapi?apiid=aiplatform.googleapis.com)。\n",
        "\n",
        "瞭解有關 [設定專案和開發環境](https://cloud.google.com/vertex-ai/docs/start/cloud-environment) 的更多資訊。"
      ]
    },
    {
      "cell_type": "code",
      "execution_count": 1,
      "metadata": {
        "id": "Nqwi-5ufWp_B"
      },
      "outputs": [],
      "source": [
        "import os\n",
        "\n",
        "PROJECT_ID = \"\"  # @param {type: \"string\", placeholder: \"[您的專案 ID]\", isTemplate: true}\n",
        "if not PROJECT_ID or PROJECT_ID == \"[您的專案 ID]\":\n",
        "    PROJECT_ID = str(os.environ.get(\"GOOGLE_CLOUD_PROJECT\"))\n",
        "\n",
        "LOCATION = os.environ.get(\"GOOGLE_CLOUD_REGION\", \"us-central1\")\n",
        "\n",
        "from google import genai\n",
        "\n",
        "client = genai.Client(vertexai=True, project=PROJECT_ID, location=LOCATION)"
      ]
    },
    {
      "cell_type": "markdown",
      "metadata": {
        "id": "92e02c3e0375"
      },
      "source": [
        "## 程式碼範例"
      ]
    },
    {
      "cell_type": "markdown",
      "metadata": {
        "id": "5671450907ec"
      },
      "source": [
        "### 選擇模型\n",
        "\n",
        "如需有關 Vertex AI 上所有 AI 模型和 API 的更多資訊，請參閱 [Google 模型](https://cloud.google.com/vertex-ai/generative-ai/docs/learn/models#gemini-models) 和 [模型園地](https://cloud.google.com/vertex-ai/generative-ai/docs/model-garden/explore-models)。"
      ]
    },
    {
      "cell_type": "code",
      "execution_count": 2,
      "metadata": {
        "id": "41e499d90618"
      },
      "outputs": [],
      "source": [
        "MODEL_ID = \"gemini-2.0-flash-001\"  # @param {type: \"string\"}"
      ]
    },
    {
      "cell_type": "markdown",
      "metadata": {
        "id": "jXHfaVS66_01"
      },
      "source": [
        "### 導入函式庫\n"
      ]
    },
    {
      "cell_type": "code",
      "execution_count": 3,
      "metadata": {
        "id": "lslYAvw37JGQ"
      },
      "outputs": [],
      "source": [
        "from IPython.display import Markdown, display\n",
        "from google.genai.types import FunctionDeclaration, GenerateContentConfig, Part, Tool\n",
        "import requests"
      ]
    },
    {
      "cell_type": "markdown",
      "metadata": {
        "id": "28f36bd968b4"
      },
      "source": [
        "### 聊天範例：在聊天階段使用函式呼叫來回答使用者關於 Google 商店的問題"
      ]
    },
    {
      "cell_type": "markdown",
      "metadata": {
        "id": "2d28287bde87"
      },
      "source": [
        "在此範例中，您將使用函式呼叫以及 Gemini 模型中的聊天模式來協助客戶取得關於 Google 商店中產品的資訊。\n",
        "\n",
        "您將從定義三個函式開始：一個用於取得產品資訊，另一個用於取得最近商店的位置，還有一個用於下單："
      ]
    },
    {
      "cell_type": "code",
      "execution_count": 4,
      "metadata": {
        "id": "3d4ed7ccc094"
      },
      "outputs": [],
      "source": [
        "get_product_info = FunctionDeclaration(\n",
        "    name=\"get_product_info\",\n",
        "    description=\"取得給定產品的庫存數量和識別碼\",\n",
        "    parameters={\n",
        "        \"type\": \"OBJECT\",\n",
        "        \"properties\": {\n",
        "            \"product_name\": {\"type\": \"STRING\", \"description\": \"產品名稱\"}\n",
        "        },\n",
        "    },\n",
        ")\n",
        "\n",
        "get_store_location = FunctionDeclaration(\n",
        "    name=\"get_store_location\",\n",
        "    description=\"取得最近商店的位置\",\n",
        "    parameters={\n",
        "        \"type\": \"OBJECT\",\n",
        "        \"properties\": {\"location\": {\"type\": \"STRING\", \"description\": \"位置\"}},\n",
        "    },\n",
        ")\n",
        "\n",
        "place_order = FunctionDeclaration(\n",
        "    name=\"place_order\",\n",
        "    description=\"下單\",\n",
        "    parameters={\n",
        "        \"type\": \"OBJECT\",\n",
        "        \"properties\": {\n",
        "            \"product\": {\"type\": \"STRING\", \"description\": \"產品名稱\"},\n",
        "            \"address\": {\"type\": \"STRING\", \"description\": \"送貨地址\"},\n",
        "        },\n",
        "    },\n",
        ")"
      ]
    },
    {
      "cell_type": "markdown",
      "metadata": {
        "id": "e7d7319febd8"
      },
      "source": [
        "請注意，函式參數根據 [OpenAPI JSON 架構格式](https://spec.openapis.org/oas/v3.0.3#schemawr) 以 Python 字典的形式指定。\n",
        "\n",
        "定義一個工具，讓 Gemini 模型可以從這 3 個函式中選擇："
      ]
    },
    {
      "cell_type": "code",
      "execution_count": 5,
      "metadata": {
        "id": "4b2d1900730d"
      },
      "outputs": [],
      "source": [
        "retail_tool = Tool(\n",
        "    function_declarations=[\n",
        "        get_product_info,\n",
        "        get_store_location,\n",
        "        place_order,\n",
        "    ],\n",
        ")"
      ]
    },
    {
      "cell_type": "markdown",
      "metadata": {
        "id": "2b3781f6fd83"
      },
      "source": [
        "現在您可以使用多回合聊天階段中的函式呼叫來初始化 Gemini 模型。\n",
        "\n",
        "您可以在初始化聊天階段時指定 `tools` 關鍵字引數，以避免必須在每次後續請求中傳送它："
      ]
    },
    {
      "cell_type": "code",
      "execution_count": 6,
      "metadata": {
        "id": "ef8c2d811321"
      },
      "outputs": [],
      "source": [
        "chat = client.chats.create(\n",
        "    model=MODEL_ID,\n",
        "    config=GenerateContentConfig(\n",
        "        temperature=0,\n",
        "        tools=[retail_tool],\n",
        "    ),\n",
        ")"
      ]
    },
    {
      "cell_type": "markdown",
      "metadata": {
        "id": "adc8022b2461"
      },
      "source": [
        "**注意：** `temperature` 參數控制此生成中的隨機性程度。較低的溫度適用於需要確定性參數值的函式，而較高的溫度適用於具有接受更多樣化或創意參數值的參數的函式。`0` 的溫度是確定性的。在此情況下，給定提示的回應大多是確定性的，但仍然可能存在少量變化。\n",
        "\n",
        "我們準備好聊天了！讓我們透過詢問特定產品是否有庫存來開始對話："
      ]
    },
    {
      "cell_type": "code",
      "execution_count": 7,
      "metadata": {
        "id": "9556d1ebcc1f",
        "colab": {
          "base_uri": "https://localhost:8080/"
        },
        "outputId": "52aa146c-8478-4dd7-ef38-dc75434b1f75"
      },
      "outputs": [
        {
          "output_type": "execute_result",
          "data": {
            "text/plain": [
              "FunctionCall(id=None, args={'product_name': 'Pixel 9'}, name='get_product_info')"
            ]
          },
          "metadata": {},
          "execution_count": 7
        }
      ],
      "source": [
        "prompt = \"\"\"\n",
        "你們有 Pixel 9 的庫存嗎？\n",
        "\"\"\"\n",
        "\n",
        "response = chat.send_message(prompt)\n",
        "response.function_calls[0]"
      ]
    },
    {
      "cell_type": "markdown",
      "metadata": {
        "id": "3111780745fc"
      },
      "source": [
        "Gemini API 的回應包含一個結構化資料物件，其中包含 Gemini 從可用函式中選擇的函式名稱和參數。\n",
        "\n",
        "由於此筆記本著重於提取函式參數和產生函式呼叫的能力，因此您將使用模擬資料來將合成回應傳回 Gemini 模型，而不是向 API 伺服器發送請求（不用擔心，我們稍後會在範例中進行實際的 API 呼叫）："
      ]
    },
    {
      "cell_type": "code",
      "execution_count": 8,
      "metadata": {
        "id": "0c3f7b5474da"
      },
      "outputs": [],
      "source": [
        "# 在這裡，您可以使用您偏好的方法來發出 API 請求並取得回應。\n",
        "# 在此範例中，我們將使用合成資料來模擬來自外部 API 回應的有效負載。\n",
        "\n",
        "api_response = {\"sku\": \"GA04834-US\", \"in_stock\": \"yes\"}"
      ]
    },
    {
      "cell_type": "markdown",
      "metadata": {
        "id": "3d86f58489be"
      },
      "source": [
        "實際上，您將使用您想要的用戶端程式庫或 REST API 對外部系統或資料庫執行函式呼叫。\n",
        "\n",
        "現在，您可以傳遞來自（模擬）API 請求的回應，並為終端使用者產生回應："
      ]
    },
    {
      "cell_type": "code",
      "execution_count": 9,
      "metadata": {
        "id": "5bbc8135093d",
        "colab": {
          "base_uri": "https://localhost:8080/",
          "height": 46
        },
        "outputId": "d2b18876-264c-46e2-ad78-1b11f94ba07b"
      },
      "outputs": [
        {
          "output_type": "display_data",
          "data": {
            "text/plain": [
              "<IPython.core.display.Markdown object>"
            ],
            "text/markdown": "是的，我們有 Pixel 9 的庫存。\n"
          },
          "metadata": {}
        }
      ],
      "source": [
        "response = chat.send_message(\n",
        "    Part.from_function_response(\n",
        "        name=\"get_product_info\",\n",
        "        response={\n",
        "            \"content\": api_response,\n",
        "        },\n",
        "    ),\n",
        ")\n",
        "display(Markdown(response.text))"
      ]
    },
    {
      "cell_type": "markdown",
      "metadata": {
        "id": "186d7afafee9"
      },
      "source": [
        "接下來，使用者可能會詢問他們可以在附近的商店購買不同型號的手機："
      ]
    },
    {
      "cell_type": "code",
      "execution_count": 10,
      "metadata": {
        "id": "0258f7777226",
        "colab": {
          "base_uri": "https://localhost:8080/"
        },
        "outputId": "f81c2ced-b7d9-4455-8cad-fe57f223a154"
      },
      "outputs": [
        {
          "output_type": "execute_result",
          "data": {
            "text/plain": [
              "[FunctionCall(id=None, args={'product_name': 'Pixel 9 Pro XL'}, name='get_product_info'),\n",
              " FunctionCall(id=None, args={'location': '高雄 85 大樓'}, name='get_store_location')]"
            ]
          },
          "metadata": {},
          "execution_count": 10
        }
      ],
      "source": [
        "prompt = \"\"\"\n",
        "Pixel 9 Pro XL 怎麼樣？附近有沒有 高雄 85 大樓, 手機的商店可以讓我親自試用？\n",
        "\"\"\"\n",
        "\n",
        "response = chat.send_message(prompt)\n",
        "response.function_calls"
      ]
    },
    {
      "cell_type": "markdown",
      "metadata": {
        "id": "da19e8e5292c"
      },
      "source": [
        "同樣地，您會收到包含結構化資料的回應，但請注意，這裡有兩個函式呼叫，而不是一個！\n",
        "\n",
        "Gemini 模型識別出它需要 `get_product_info` 和 `get_store_location` 兩個函式。\n",
        "仔細看看您在幾個儲存格之前使用的提示，您會注意到使用者詢問了產品和商店的位置。\n",
        "\n",
        "在定義兩個或多個函式（或模型預測對相同函式的多次函式呼叫）的情況下，Gemini 模型有時可能會在單一回合對話中返回連續或並行的函式呼叫回應。\n",
        "\n",
        "這是預期行為，因為 Gemini 模型會在執行階段預測它應該呼叫哪些函式、應該以什麼順序呼叫相依函式，以及哪些函式呼叫可以並行處理，以便模型可以收集足夠的資訊來產生自然語言回應。\n",
        "\n",
        "不用擔心！您可以重複與之前相同的步驟，並建立來自外部 API 的合成有效負載："
      ]
    },
    {
      "cell_type": "code",
      "execution_count": 11,
      "metadata": {
        "id": "fba8fb03a8f9"
      },
      "outputs": [],
      "source": [
        "# 在這裡，您可以使用您偏好的方法來發出 API 請求並取得回應。\n",
        "# 在此範例中，我們將使用合成資料來模擬來自外部 API 回應的有效負載。\n",
        "\n",
        "product_info_api_response = {\"sku\": \"GA08475-US\", \"in_stock\": \"yes\"}\n",
        "store_location_api_response = {\n",
        "    \"store\": \"高雄 85 大樓 19 樓, 5號 自強三路, 苓雅區, 802\"\n",
        "}"
      ]
    },
    {
      "cell_type": "markdown",
      "metadata": {
        "id": "adc1530ec2b1"
      },
      "source": [
        "同樣地，您可以將來自（模擬）API 請求的回應傳回 Gemini 模型："
      ]
    },
    {
      "cell_type": "code",
      "execution_count": 12,
      "metadata": {
        "id": "3d8728b830d0",
        "colab": {
          "base_uri": "https://localhost:8080/",
          "height": 46
        },
        "outputId": "ffed8ce9-f4d4-4a6a-d9da-43fe03a40a5b"
      },
      "outputs": [
        {
          "output_type": "display_data",
          "data": {
            "text/plain": [
              "<IPython.core.display.Markdown object>"
            ],
            "text/markdown": "是的，我們有 Pixel 9 Pro XL 的庫存。最近的商店位於高雄 85 大樓 19 樓, 5號 自強三路, 苓雅區, 802。\n"
          },
          "metadata": {}
        }
      ],
      "source": [
        "response = chat.send_message(\n",
        "    [\n",
        "        Part.from_function_response(\n",
        "            name=\"get_product_info\",\n",
        "            response={\n",
        "                \"content\": product_info_api_response,\n",
        "            },\n",
        "        ),\n",
        "        Part.from_function_response(\n",
        "            name=\"get_store_location\",\n",
        "            response={\n",
        "                \"content\": store_location_api_response,\n",
        "            },\n",
        "        ),\n",
        "    ]\n",
        ")\n",
        "display(Markdown(response.text))"
      ]
    },
    {
      "cell_type": "markdown",
      "metadata": {
        "id": "02f7d52fbe71"
      },
      "source": [
        "做得很好！\n",
        "\n",
        "在單一回合對話中，Gemini 模型連續請求了 2 個函式呼叫，然後才返回自然語言摘要。實際上，如果您需要對庫存管理系統發出 API 呼叫，以及對商店位置資料庫、客戶管理系統或文件儲存庫發出其他呼叫，您可能會遵循此模式。\n",
        "\n",
        "最後，使用者可能會要求訂購手機並將其運送到他們的地址："
      ]
    },
    {
      "cell_type": "code",
      "execution_count": 13,
      "metadata": {
        "id": "b430f3ea4f9a",
        "colab": {
          "base_uri": "https://localhost:8080/"
        },
        "outputId": "3d97ca75-16cf-419d-a96e-14a003dc80d1"
      },
      "outputs": [
        {
          "output_type": "execute_result",
          "data": {
            "text/plain": [
              "[FunctionCall(id=None, args={'product': 'Pixel 9 Pro XL', 'address': '110台北市信義區No7號Section 5, Xinyi Road 73樓'}, name='place_order')]"
            ]
          },
          "metadata": {},
          "execution_count": 13
        }
      ],
      "source": [
        "prompt = \"\"\"\n",
        "我想訂購 Pixel 9 Pro XL，並將其運送到 110台北市信義區No7號Section 5, Xinyi Road 73樓。\n",
        "\"\"\"\n",
        "\n",
        "response = chat.send_message(prompt)\n",
        "response.function_calls"
      ]
    },
    {
      "cell_type": "markdown",
      "metadata": {
        "id": "6b0c9fc9d581"
      },
      "source": [
        "完美！Gemini 模型擷取了使用者選擇的產品及其地址。現在您可以呼叫 API 來下單："
      ]
    },
    {
      "cell_type": "code",
      "execution_count": 14,
      "metadata": {
        "id": "55883a7238cf"
      },
      "outputs": [],
      "source": [
        "# 這是在這裡您將發出 API 請求以返回其訂單狀態的地方。\n",
        "# 使用合成資料來模擬來自外部 API 的回應有效負載。\n",
        "\n",
        "order_api_response = {\n",
        "    \"payment_status\": \"paid\",\n",
        "    \"order_number\": 12345,\n",
        "    \"est_arrival\": \"2 天\",\n",
        "}"
      ]
    },
    {
      "cell_type": "markdown",
      "metadata": {
        "id": "51376798e2d6"
      },
      "source": [
        "然後傳送來自外部 API 呼叫的有效負載，以便 Gemini API 返回自然語言摘要給終端使用者。"
      ]
    },
    {
      "cell_type": "code",
      "execution_count": 15,
      "metadata": {
        "id": "74f6d8722928",
        "colab": {
          "base_uri": "https://localhost:8080/",
          "height": 46
        },
        "outputId": "30c1c017-1663-4b44-e154-b954bfe6e14e"
      },
      "outputs": [
        {
          "output_type": "display_data",
          "data": {
            "text/plain": [
              "<IPython.core.display.Markdown object>"
            ],
            "text/markdown": "好的，我已為您訂購 Pixel 9 Pro XL，並將其運送到 110台北市信義區No7號Section 5, Xinyi Road 73樓。您的訂單號碼是 12345，預計 2 天後送達。\n"
          },
          "metadata": {}
        }
      ],
      "source": [
        "response = chat.send_message(\n",
        "    Part.from_function_response(\n",
        "        name=\"place_order\",\n",
        "        response={\n",
        "            \"content\": order_api_response,\n",
        "        },\n",
        "    ),\n",
        ")\n",
        "display(Markdown(response.text))"
      ]
    },
    {
      "cell_type": "markdown",
      "metadata": {
        "id": "9df66c601c36"
      },
      "source": [
        "完成了！\n",
        "\n",
        "您能夠使用函式呼叫與 Gemini 模型進行多回合對話，處理有效負載，並產生包含來自外部系統資訊的自然語言摘要。"
      ]
    },
    {
      "cell_type": "markdown",
      "metadata": {
        "id": "46b6be36bf79"
      },
      "source": [
        "### 地址範例：使用自動函式呼叫來使用地圖 API 將地址進行地理編碼"
      ]
    },
    {
      "cell_type": "markdown",
      "metadata": {
        "id": "7845554ca0a5"
      },
      "source": [
        "在此範例中，您將定義一個函式，將多個參數作為輸入。然後，您將在 Gemini API 中使用自動函式呼叫來進行即時 API 呼叫，以將地址轉換為經度和緯度座標。\n",
        "\n",
        "從撰寫 Python 函式開始："
      ]
    },
    {
      "cell_type": "code",
      "execution_count": 16,
      "metadata": {
        "id": "cMLEbK60ZuZ6"
      },
      "outputs": [],
      "source": [
        "def get_location(\n",
        "    amenity: str | None = None,\n",
        "    street: str | None = None,\n",
        "    city: str | None = None,\n",
        "    county: str | None = None,\n",
        "    state: str | None = None,\n",
        "    country: str | None = None,\n",
        "    postalcode: str | None = None,\n",
        ") -> list[dict]:\n",
        "    \"\"\"\n",
        "    取得給定位置的經度和緯度。\n",
        "\n",
        "    引數：\n",
        "        amenity (str | None): 便利設施或景點。\n",
        "        street (str | None): 街道名稱。\n",
        "        city (str | None): 城市名稱。\n",
        "        county (str | None): 縣名稱。\n",
        "        state (str | None): 州名稱。\n",
        "        country (str | None): 國家名稱。\n",
        "        postalcode (str | None): 郵遞區號。\n",
        "\n",
        "    傳回值：\n",
        "        list[dict]: 包含給定位置的經度和緯度的字典清單。\n",
        "                    如果無法判斷位置，則傳回空清單。\n",
        "    \"\"\"\n",
        "    base_url = \"https://nominatim.openstreetmap.org/search\"\n",
        "    params = {\n",
        "        \"amenity\": amenity,\n",
        "        \"street\": street,\n",
        "        \"city\": city,\n",
        "        \"county\": county,\n",
        "        \"state\": state,\n",
        "        \"country\": country,\n",
        "        \"postalcode\": postalcode,\n",
        "        \"format\": \"json\",\n",
        "    }\n",
        "    # 從參數中篩選出 None 值\n",
        "    params = {k: v for k, v in params.items() if v is not None}\n",
        "\n",
        "    try:\n",
        "        response = requests.get(base_url, params=params, headers={\"User-Agent\": \"none\"})\n",
        "        response.raise_for_status()\n",
        "        return response.json()\n",
        "    except requests.RequestException as e:\n",
        "        print(f\"擷取位置資料時發生錯誤：{e}\")\n",
        "        return []"
      ]
    },
    {
      "cell_type": "markdown",
      "metadata": {
        "id": "2dd17419f473"
      },
      "source": [
        "在此範例中，您要求 Gemini 模型將地址的組成部分提取到結構化資料物件中的特定欄位中。然後，這些欄位會傳遞到您定義的函式，結果會傳回給 Gemini 以產生自然語言回應。\n",
        "\n",
        "傳送包含地址的提示，例如："
      ]
    },
    {
      "cell_type": "code",
      "execution_count": 27,
      "metadata": {
        "id": "715c7a7437e9",
        "colab": {
          "base_uri": "https://localhost:8080/"
        },
        "outputId": "f0bc2573-c9f8-431e-a022-e426dc002919"
      },
      "outputs": [
        {
          "output_type": "stream",
          "name": "stdout",
          "text": [
            "我找到了信義路五段的一些座標。它們是：25.032889078721112, 121.57246169871985、25.032678458384993, 121.56976210377836、25.032840258439666, 121.57341457484719、25.033533015066524, 121.57439164577374、25.0330048, 121.56347414999999、25.032894290001185, 121.56337998334882、25.03290575, 121.56829015、25.03276985, 121.56842585、25.032932947736622, 121.56682144083878、25.032807150438142, 121.56682139720824。\n",
            "\n"
          ]
        }
      ],
      "source": [
        "prompt = \"\"\"\n",
        "我想取得以下地址的座標：\n",
        "110 台灣， 台北市， 信義區， 信義路5段\n",
        "\"\"\"\n",
        "\n",
        "response = client.models.generate_content(\n",
        "    model=MODEL_ID,\n",
        "    contents=prompt,\n",
        "    config=GenerateContentConfig(tools=[get_location], temperature=0),\n",
        ")\n",
        "print(response.text)"
      ]
    },
    {
      "cell_type": "markdown",
      "metadata": {
        "id": "ab8b57e204a6"
      },
      "source": [
        "很棒！您能夠定義一個 Gemini 模型用於從提示中提取相關參數的函式。然後，您進行了即時 API 呼叫以取得指定位置的座標。\n",
        "\n",
        "在此，我們使用 [OpenStreetMap Nominatim API](https://nominatim.openstreetmap.org/ui/search.html) 來將地址進行地理編碼，以將本教學課程中的步驟數量保持在合理的範圍內。如果您正在處理大量的地址或地理位置資料，您也可以使用 [Google 地圖地理編碼 API](https://developers.google.com/maps/documentation/geocoding) 或任何具有 API 的地圖服務！"
      ]
    },
    {
      "cell_type": "markdown",
      "metadata": {
        "id": "47d9ae0b4b79"
      },
      "source": [
        "## 結論\n",
        "\n",
        "您已透過 Google Gen AI Python SDK 探索了函式呼叫功能。\n",
        "\n",
        "下一步是透過探索此 [說明文件頁面](https://cloud.google.com/vertex-ai/generative-ai/docs/multimodal/function-calling) 來增強您的技能。"
      ]
    }
  ],
  "metadata": {
    "colab": {
      "provenance": [],
      "include_colab_link": true
    },
    "kernelspec": {
      "display_name": "Python 3",
      "name": "python3"
    }
  },
  "nbformat": 4,
  "nbformat_minor": 0
}