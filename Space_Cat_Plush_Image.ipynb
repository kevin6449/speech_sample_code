{
  "nbformat": 4,
  "nbformat_minor": 0,
  "metadata": {
    "colab": {
      "provenance": [],
      "include_colab_link": true
    },
    "language_info": {
      "name": "python"
    },
    "kernelspec": {
      "name": "python3",
      "display_name": "Python 3"
    }
  },
  "cells": [
    {
      "cell_type": "markdown",
      "metadata": {
        "id": "view-in-github",
        "colab_type": "text"
      },
      "source": [
        "<a href=\"https://colab.research.google.com/github/kevin6449/speech_sample_code/blob/main/Space_Cat_Plush_Image.ipynb\" target=\"_parent\"><img src=\"https://colab.research.google.com/assets/colab-badge.svg\" alt=\"Open In Colab\"/></a>"
      ]
    },
    {
      "cell_type": "markdown",
      "metadata": {
        "id": "fXK16Hj5KVJH"
      },
      "source": [
        "# Setup\n",
        "\n",
        "Please ensure you have imported a Gemini API key from AI Studio.\n",
        "You can do this directly in the Secrets tab on the left.\n",
        "\n",
        "After doing so, please run the setup cell below."
      ]
    },
    {
      "cell_type": "code",
      "metadata": {
        "colab": {
          "base_uri": "https://localhost:8080/"
        },
        "id": "0GA3_DmWKVJI",
        "outputId": "aab214d3-8c3a-46c5-9de7-ebe585d3f3f8"
      },
      "source": [
        "!pip install -U -q \"google\"\n",
        "!pip install -U -q \"google.genai\"\n",
        "\n",
        "import os\n",
        "from google.colab import userdata\n",
        "from google.colab import drive\n",
        "os.environ[\"GEMINI_API_KEY\"] = userdata.get(\"GOOGLE_API_KEY\")\n",
        "\n",
        "drive.mount(\"/content/drive\")\n",
        "# Please ensure that uploaded files are available in the AI Studio folder or change the working folder.\n",
        "os.chdir(\"/content/drive/MyDrive/Google AI Studio\")"
      ],
      "execution_count": 1,
      "outputs": [
        {
          "output_type": "stream",
          "name": "stdout",
          "text": [
            "\u001b[2K   \u001b[90m━━━━━━━━━━━━━━━━━━━━━━━━━━━━━━━━━━━━━━━━\u001b[0m \u001b[32m45.3/45.3 kB\u001b[0m \u001b[31m1.8 MB/s\u001b[0m eta \u001b[36m0:00:00\u001b[0m\n",
            "\u001b[2K   \u001b[90m━━━━━━━━━━━━━━━━━━━━━━━━━━━━━━━━━━━━━━━━\u001b[0m \u001b[32m159.7/159.7 kB\u001b[0m \u001b[31m9.3 MB/s\u001b[0m eta \u001b[36m0:00:00\u001b[0m\n",
            "\u001b[?25hMounted at /content/drive\n"
          ]
        }
      ]
    },
    {
      "cell_type": "markdown",
      "metadata": {
        "id": "muRBEowRKVJK"
      },
      "source": [
        "# Generated Code"
      ]
    },
    {
      "cell_type": "code",
      "metadata": {
        "colab": {
          "base_uri": "https://localhost:8080/"
        },
        "id": "2y3ObgYJKVJK",
        "outputId": "743de6c5-f075-4059-b11b-0dbf67d9232d"
      },
      "source": [
        "import base64\n",
        "import os\n",
        "import mimetypes\n",
        "from google import genai\n",
        "from google.genai import types\n",
        "\n",
        "\n",
        "def save_binary_file(file_name, data):\n",
        "    f = open(file_name, \"wb\")\n",
        "    f.write(data)\n",
        "    f.close()\n",
        "\n",
        "\n",
        "def generate():\n",
        "    client = genai.Client(\n",
        "        api_key=os.environ.get(\"GEMINI_API_KEY\"),\n",
        "    )\n",
        "\n",
        "    model = \"gemini-2.0-flash-exp-image-generation\"\n",
        "    contents = [\n",
        "        types.Content(\n",
        "            role=\"user\",\n",
        "            parts=[\n",
        "                types.Part.from_text(text=\"幫我生成一張太空貓咪的公仔圖\"),\n",
        "            ],\n",
        "        ),\n",
        "    ]\n",
        "    generate_content_config = types.GenerateContentConfig(\n",
        "        response_modalities=[\n",
        "            \"image\",\n",
        "            \"text\",\n",
        "        ],\n",
        "        response_mime_type=\"text/plain\",\n",
        "    )\n",
        "\n",
        "    for chunk in client.models.generate_content_stream(\n",
        "        model=model,\n",
        "        contents=contents,\n",
        "        config=generate_content_config,\n",
        "    ):\n",
        "        if chunk.candidates is None or chunk.candidates[0].content is None or chunk.candidates[0].content.parts is None:\n",
        "            continue\n",
        "        if chunk.candidates[0].content.parts[0].inline_data:\n",
        "            file_name = \"space_cat\"\n",
        "            inline_data = chunk.candidates[0].content.parts[0].inline_data\n",
        "            file_extension = mimetypes.guess_extension(inline_data.mime_type)\n",
        "            save_binary_file(\n",
        "                f\"{file_name}{file_extension}\", inline_data.data\n",
        "            )\n",
        "            print(\n",
        "                \"File of mime type\"\n",
        "                f\" {inline_data.mime_type} saved\"\n",
        "                f\"to: {file_name}\"\n",
        "            )\n",
        "        else:\n",
        "            print(chunk.text)\n",
        "\n",
        "if __name__ == \"__main__\":\n",
        "    generate()\n"
      ],
      "execution_count": 4,
      "outputs": [
        {
          "output_type": "stream",
          "name": "stdout",
          "text": [
            "好的\n",
            "，請看這張太空貓咪公仔的概念圖：\n",
            "\n",
            "\n",
            "File of mime type image/png savedto: space_cat\n",
            "\n",
            "\n",
            "\n",
            "這是一隻穿著白色太空服的可愛貓咪公仔。牠\n",
            "戴著透明的頭盔，可以清楚看到牠有著水汪汪\n",
            "的大眼睛和粉嫩的小鼻子。太空服上有紅色的線條和一些文字裝飾，整體造型非常Q萌。背景是深邃的\n",
            "星空，點綴著閃爍的星星，營造出太空的氛圍。\n",
            "\n",
            "希望您喜歡這個設計！如果您有任何其他的想法或\n",
            "想要調整的地方，請隨時告訴我。\n"
          ]
        }
      ]
    }
  ]
}