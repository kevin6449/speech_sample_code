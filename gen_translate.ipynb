{
  "nbformat": 4,
  "nbformat_minor": 0,
  "metadata": {
    "colab": {
      "provenance": [],
      "mount_file_id": "1_0a1iNComgA6eKZNkyC-zxEpJSmCFOQp",
      "authorship_tag": "ABX9TyPFRJdR13NRgW9zmxx8SiOu",
      "include_colab_link": true
    },
    "kernelspec": {
      "name": "python3",
      "display_name": "Python 3"
    },
    "language_info": {
      "name": "python"
    }
  },
  "cells": [
    {
      "cell_type": "markdown",
      "metadata": {
        "id": "view-in-github",
        "colab_type": "text"
      },
      "source": [
        "<a href=\"https://colab.research.google.com/github/kevin6449/speech_sample_code/blob/main/gen_translate.ipynb\" target=\"_parent\"><img src=\"https://colab.research.google.com/assets/colab-badge.svg\" alt=\"Open In Colab\"/></a>"
      ]
    },
    {
      "cell_type": "markdown",
      "source": [
        "# 瞭解 Gemini API 的文件處理功能"
      ],
      "metadata": {
        "id": "4c3TFMFHfRDS"
      }
    },
    {
      "cell_type": "markdown",
      "source": [
        "Gemini API 可處理傳入的 ipynb 文件，並進行推論。時間 上傳 ipynb 檔案後，Gemini API 就能：\n",
        "\n",
        "說明或回答內容相關問題\n",
        "提供內容的摘要\n",
        "從內容推斷\n"
      ],
      "metadata": {
        "id": "CyHbqOF0feva"
      }
    },
    {
      "cell_type": "code",
      "source": [],
      "metadata": {
        "id": "c_TGApoN-h9p"
      },
      "execution_count": null,
      "outputs": []
    },
    {
      "cell_type": "code",
      "source": [
        "import google.generativeai as genai"
      ],
      "metadata": {
        "id": "R97GLs0J-8eV"
      },
      "execution_count": 31,
      "outputs": []
    },
    {
      "cell_type": "code",
      "source": [
        "from google.colab import userdata\n",
        "\n",
        "API_KEY=userdata.get('GOOGLE_API_KEY')"
      ],
      "metadata": {
        "id": "TKVTDrPt--uG"
      },
      "execution_count": 32,
      "outputs": []
    },
    {
      "cell_type": "code",
      "source": [
        "#genai.configure(api_key=\"YOUR_API_KEY\")\n",
        "\n",
        "# Configure the client library by providing your API key.\n",
        "genai.configure(api_key=API_KEY)"
      ],
      "metadata": {
        "id": "Bl_mLa23_EYr"
      },
      "execution_count": 33,
      "outputs": []
    },
    {
      "cell_type": "code",
      "source": [
        "from google.colab import drive\n",
        "drive.mount('/content/drive')"
      ],
      "metadata": {
        "id": "t-xEdKYzQ8O_",
        "colab": {
          "base_uri": "https://localhost:8080/"
        },
        "outputId": "1156874f-83c1-4e0a-ddbe-8f6edcfceb0a"
      },
      "execution_count": 34,
      "outputs": [
        {
          "output_type": "stream",
          "name": "stdout",
          "text": [
            "Drive already mounted at /content/drive; to attempt to forcibly remount, call drive.mount(\"/content/drive\", force_remount=True).\n"
          ]
        }
      ]
    },
    {
      "cell_type": "code",
      "source": [
        "import os\n",
        "\n",
        "file_path = '/content/drive/xxxx.ipynb'\n",
        "\n",
        "# Get the filename from the path\n",
        "filename = os.path.basename(file_path)\n",
        "print(filename) #output: my_file.txt\n",
        "\n",
        "#get the directory from the path.\n",
        "directory = os.path.dirname(file_path)\n",
        "print(directory) #output: /content/drive/MyDrive/data"
      ],
      "metadata": {
        "id": "EKVhTl4RIJiW"
      },
      "execution_count": null,
      "outputs": []
    },
    {
      "cell_type": "code",
      "source": [
        "with open(file_path, 'r') as f:\n",
        "    content = f.read()\n",
        "    print(content)\n"
      ],
      "metadata": {
        "id": "ZNKriSpxIh6O"
      },
      "execution_count": null,
      "outputs": []
    },
    {
      "cell_type": "markdown",
      "source": [
        "# 使用上傳的文件，提示 Gemini API\n",
        "上傳檔案後，您可以提出參照的 GenerateContent 要求 File API URI選取生成式模型，並以文字提示提供模型 以及上傳的文件：\n",
        "\n",
        "\n"
      ],
      "metadata": {
        "id": "X1OIdC7wgHEk"
      }
    },
    {
      "cell_type": "code",
      "source": [
        "# Choose a Gemini model.\n",
        "model = genai.GenerativeModel(model_name=\"gemini-1.5-flash\")\n",
        "\n",
        "# Prompt the model with text and the previously uploaded image.\n",
        "response = model.generate_content([content, \"你可以幫我把 json格式內 source內容 翻譯成繁體中文嗎，保持原來的格式\"])\n",
        "\n",
        "print(response.text)"
      ],
      "metadata": {
        "id": "XKjpMbvG_jtR"
      },
      "execution_count": null,
      "outputs": []
    },
    {
      "cell_type": "code",
      "source": [
        "file_path = '/content/drive/MyDrive/GDE/xxxxx_tw.ipynb'\n",
        "with open(file_path, 'w') as f:\n",
        "    f.write(response.text)\n",
        ""
      ],
      "metadata": {
        "id": "Inan5PK5LKmB"
      },
      "execution_count": 40,
      "outputs": []
    }
  ]
}