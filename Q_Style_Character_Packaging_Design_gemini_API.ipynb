{
  "nbformat": 4,
  "nbformat_minor": 0,
  "metadata": {
    "colab": {
      "provenance": [],
      "include_colab_link": true
    },
    "language_info": {
      "name": "python"
    },
    "kernelspec": {
      "name": "python3",
      "display_name": "Python 3"
    }
  },
  "cells": [
    {
      "cell_type": "markdown",
      "metadata": {
        "id": "view-in-github",
        "colab_type": "text"
      },
      "source": [
        "<a href=\"https://colab.research.google.com/github/kevin6449/speech_sample_code/blob/main/Q_Style_Character_Packaging_Design_gemini_API.ipynb\" target=\"_parent\"><img src=\"https://colab.research.google.com/assets/colab-badge.svg\" alt=\"Open In Colab\"/></a>"
      ]
    },
    {
      "cell_type": "markdown",
      "metadata": {
        "id": "fETkjQicbVJl"
      },
      "source": [
        "# Setup\n",
        "\n",
        "Please ensure you have imported a Gemini API key from AI Studio.\n",
        "You can do this directly in the Secrets tab on the left.\n",
        "\n",
        "After doing so, please run the setup cell below."
      ]
    },
    {
      "cell_type": "code",
      "metadata": {
        "colab": {
          "base_uri": "https://localhost:8080/"
        },
        "id": "aYlqjRFVbVJn",
        "outputId": "c3d11777-de27-497f-b176-7e08fd94da86"
      },
      "source": [
        "!pip install -U -q \"google\"\n",
        "!pip install -U -q \"google.genai\"\n",
        "\n",
        "import os\n",
        "from google.colab import userdata\n",
        "from google.colab import drive\n",
        "os.environ[\"GEMINI_API_KEY\"] = userdata.get(\"GOOGLE_API_KEY\")\n",
        "\n",
        "drive.mount(\"/content/drive\")\n",
        "# Please ensure that uploaded files are available in the AI Studio folder or change the working folder.\n",
        "os.chdir(\"/content/drive/MyDrive/\")"
      ],
      "execution_count": 1,
      "outputs": [
        {
          "output_type": "stream",
          "name": "stdout",
          "text": [
            "\u001b[?25l   \u001b[90m━━━━━━━━━━━━━━━━━━━━━━━━━━━━━━━━━━━━━━━━\u001b[0m \u001b[32m0.0/45.3 kB\u001b[0m \u001b[31m?\u001b[0m eta \u001b[36m-:--:--\u001b[0m\r\u001b[2K   \u001b[90m━━━━━━━━━━━━━━━━━━━━━━━━━━━━━━━━━━━━━━━━\u001b[0m \u001b[32m45.3/45.3 kB\u001b[0m \u001b[31m1.2 MB/s\u001b[0m eta \u001b[36m0:00:00\u001b[0m\n",
            "\u001b[?25hMounted at /content/drive\n"
          ]
        }
      ]
    },
    {
      "cell_type": "markdown",
      "metadata": {
        "id": "kaoThvGNbVJo"
      },
      "source": [
        "# Generated Code"
      ]
    },
    {
      "cell_type": "code",
      "metadata": {
        "colab": {
          "base_uri": "https://localhost:8080/"
        },
        "id": "p8FGWDG_bVJo",
        "outputId": "e57a0d1b-cd6b-4db7-83fd-0cd3da8a7ba4"
      },
      "source": [
        "# To run this code you need to install the following dependencies:\n",
        "# pip install google-genai\n",
        "\n",
        "import base64\n",
        "import mimetypes\n",
        "import os\n",
        "from google import genai\n",
        "from google.genai import types\n",
        "\n",
        "\n",
        "def save_binary_file(file_name, data):\n",
        "    f = open(file_name, \"wb\")\n",
        "    f.write(data)\n",
        "    f.close()\n",
        "    print(f\"File saved to to: {file_name}\")\n",
        "\n",
        "\n",
        "def generate():\n",
        "    client = genai.Client(\n",
        "        api_key=os.environ.get(\"GEMINI_API_KEY\"),\n",
        "    )\n",
        "\n",
        "    model = \"gemini-2.0-flash-preview-image-generation\"\n",
        "    contents = [\n",
        "        types.Content(\n",
        "            role=\"user\",\n",
        "            parts=[\n",
        "                types.Part.from_text(text=\"\"\"輸入提示詞\"\"\"),\n",
        "            ],\n",
        "        ),\n",
        "    ]\n",
        "    generate_content_config = types.GenerateContentConfig(\n",
        "        response_modalities=[\n",
        "            \"IMAGE\",\n",
        "            \"TEXT\",\n",
        "        ],\n",
        "        response_mime_type=\"text/plain\",\n",
        "    )\n",
        "\n",
        "    for chunk in client.models.generate_content_stream(\n",
        "        model=model,\n",
        "        contents=contents,\n",
        "        config=generate_content_config,\n",
        "    ):\n",
        "        if (\n",
        "            chunk.candidates is None\n",
        "            or chunk.candidates[0].content is None\n",
        "            or chunk.candidates[0].content.parts is None\n",
        "        ):\n",
        "            continue\n",
        "        if chunk.candidates[0].content.parts[0].inline_data:\n",
        "            file_name = \"輸入檔案路徑\"\n",
        "            inline_data = chunk.candidates[0].content.parts[0].inline_data\n",
        "            data_buffer = inline_data.data\n",
        "            file_extension = mimetypes.guess_extension(inline_data.mime_type)\n",
        "            save_binary_file(f\"{file_name}{file_extension}\", data_buffer)\n",
        "        else:\n",
        "            print(chunk.text)\n",
        "\n",
        "if __name__ == \"__main__\":\n",
        "    generate()\n"
      ],
      "execution_count": 4,
      "outputs": [
        {
          "output_type": "stream",
          "name": "stdout",
          "text": [
            "您\n",
            "好！我將把您的照片轉化為可愛的卡通風格，設計\n",
            "出色彩鮮豔、輪廓逼真的Q版玩偶形象，並為其設計一個掛卡式塑膠展示盒包裝。包裝盒子的顏色將與玩偶的衣服顏色保持一致，整體色調\n",
            "採用活潑的“google色”。盒子頂部會印上“AI GDE”字樣。在包裝盒的左側，將會有一個標註為「配件」的區域，裡面包含三個配件圖案\n",
            "：筆記型電腦、手機和Gemini Logo。最後，我會將整個畫面呈現為貨架上的正面產品圖，讓您預覽效果。\n",
            "\n",
            "File saved to to: /content/drive/MyDrive/kevin.jpeg.png\n"
          ]
        }
      ]
    }
  ]
}